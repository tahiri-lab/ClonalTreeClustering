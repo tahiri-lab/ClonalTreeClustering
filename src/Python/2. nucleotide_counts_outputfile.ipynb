{
 "cells": [
  {
   "cell_type": "code",
   "execution_count": 6,
   "id": "c6fd91b0-8d02-48df-98d1-63e1c9500567",
   "metadata": {},
   "outputs": [
    {
     "name": "stdout",
     "output_type": "stream",
     "text": [
      "Processing file: C:\\Users\\farm2103\\.1.project\\Data Set\\public-bcell-dataset\\D3-N\\D3-N_0_BRR_D3-N-001.adap.txt.results.tsv\n",
      "Processing file: C:\\Users\\farm2103\\.1.project\\Data Set\\public-bcell-dataset\\D3-N\\D3-N_0_BRR_D3-N-002.adap.txt.results.tsv\n",
      "Processing file: C:\\Users\\farm2103\\.1.project\\Data Set\\public-bcell-dataset\\D3-N\\D3-N_0_BRR_D3-N-003.adap.txt.results.tsv\n"
     ]
    },
    {
     "name": "stderr",
     "output_type": "stream",
     "text": [
      "C:\\Users\\farm2103\\AppData\\Local\\Temp\\ipykernel_12704\\3552149977.py:18: DtypeWarning: Columns (51,52) have mixed types. Specify dtype option on import or set low_memory=False.\n",
      "  df = pd.read_csv(file_path, sep='\\t', comment='#')\n"
     ]
    },
    {
     "name": "stdout",
     "output_type": "stream",
     "text": [
      "Processing file: C:\\Users\\farm2103\\.1.project\\Data Set\\public-bcell-dataset\\D3-N\\D3-N_0_BRR_D3-N-004.adap.txt.results.tsv\n",
      "Processing file: C:\\Users\\farm2103\\.1.project\\Data Set\\public-bcell-dataset\\D3-N\\D3-N_0_BRR_D3-N-005.adap.txt.results.tsv\n"
     ]
    },
    {
     "name": "stderr",
     "output_type": "stream",
     "text": [
      "C:\\Users\\farm2103\\AppData\\Local\\Temp\\ipykernel_12704\\3552149977.py:18: DtypeWarning: Columns (51) have mixed types. Specify dtype option on import or set low_memory=False.\n",
      "  df = pd.read_csv(file_path, sep='\\t', comment='#')\n"
     ]
    },
    {
     "name": "stdout",
     "output_type": "stream",
     "text": [
      "Processing file: C:\\Users\\farm2103\\.1.project\\Data Set\\public-bcell-dataset\\D3-N\\D3-N_0_BRR_D3-N-006.adap.txt.results.tsv\n"
     ]
    },
    {
     "name": "stderr",
     "output_type": "stream",
     "text": [
      "C:\\Users\\farm2103\\AppData\\Local\\Temp\\ipykernel_12704\\3552149977.py:18: DtypeWarning: Columns (12) have mixed types. Specify dtype option on import or set low_memory=False.\n",
      "  df = pd.read_csv(file_path, sep='\\t', comment='#')\n"
     ]
    },
    {
     "name": "stdout",
     "output_type": "stream",
     "text": [
      "Processing file: C:\\Users\\farm2103\\.1.project\\Data Set\\public-bcell-dataset\\D3-N\\D3-N_0_BRR_D3-N-007.adap.txt.results.tsv\n"
     ]
    },
    {
     "name": "stderr",
     "output_type": "stream",
     "text": [
      "C:\\Users\\farm2103\\AppData\\Local\\Temp\\ipykernel_12704\\3552149977.py:18: DtypeWarning: Columns (51) have mixed types. Specify dtype option on import or set low_memory=False.\n",
      "  df = pd.read_csv(file_path, sep='\\t', comment='#')\n"
     ]
    },
    {
     "name": "stdout",
     "output_type": "stream",
     "text": [
      "Processing file: C:\\Users\\farm2103\\.1.project\\Data Set\\public-bcell-dataset\\D3-N\\D3-N_0_BRR_D3-N-008.adap.txt.results.tsv\n"
     ]
    },
    {
     "name": "stderr",
     "output_type": "stream",
     "text": [
      "C:\\Users\\farm2103\\AppData\\Local\\Temp\\ipykernel_12704\\3552149977.py:18: DtypeWarning: Columns (51) have mixed types. Specify dtype option on import or set low_memory=False.\n",
      "  df = pd.read_csv(file_path, sep='\\t', comment='#')\n"
     ]
    },
    {
     "name": "stdout",
     "output_type": "stream",
     "text": [
      "Processing file: C:\\Users\\farm2103\\.1.project\\Data Set\\public-bcell-dataset\\D3-N\\D3-N_0_BRR_D3-N-009.adap.txt.results.tsv\n",
      "Processing file: C:\\Users\\farm2103\\.1.project\\Data Set\\public-bcell-dataset\\D3-N\\D3-N_0_BRR_D3-N-010.adap.txt.results.tsv\n",
      "Processing file: C:\\Users\\farm2103\\.1.project\\Data Set\\public-bcell-dataset\\D3-N\\D3-N_0_BRR_D3-N-011.adap.txt.results.tsv\n",
      "Processing file: C:\\Users\\farm2103\\.1.project\\Data Set\\public-bcell-dataset\\D3-N\\D3-N_0_BRR_D3-N-012.adap.txt.results.tsv\n"
     ]
    },
    {
     "name": "stderr",
     "output_type": "stream",
     "text": [
      "C:\\Users\\farm2103\\AppData\\Local\\Temp\\ipykernel_12704\\3552149977.py:18: DtypeWarning: Columns (12,51) have mixed types. Specify dtype option on import or set low_memory=False.\n",
      "  df = pd.read_csv(file_path, sep='\\t', comment='#')\n"
     ]
    },
    {
     "name": "stdout",
     "output_type": "stream",
     "text": [
      "Processing file: C:\\Users\\farm2103\\.1.project\\Data Set\\public-bcell-dataset\\D3-N\\D3-N_0_BRR_D3-N-013.adap.txt.results.tsv\n",
      "Processing file: C:\\Users\\farm2103\\.1.project\\Data Set\\public-bcell-dataset\\D3-N\\D3-N_0_BRR_D3-N-014.adap.txt.results.tsv\n",
      "Processing file: C:\\Users\\farm2103\\.1.project\\Data Set\\public-bcell-dataset\\D3-N\\D3-N_0_BRR_D3-N-015.adap.txt.results.tsv\n",
      "Processing file: C:\\Users\\farm2103\\.1.project\\Data Set\\public-bcell-dataset\\D3-N\\D3-N_0_BRR_D3-N-016.adap.txt.results.tsv\n",
      "Processing file: C:\\Users\\farm2103\\.1.project\\Data Set\\public-bcell-dataset\\D3-N\\D3-N_0_BRR_D3-N-017.adap.txt.results.tsv\n",
      "Processing file: C:\\Users\\farm2103\\.1.project\\Data Set\\public-bcell-dataset\\D3-N\\D3-N_0_BRR_D3-N-018.adap.txt.results.tsv\n"
     ]
    },
    {
     "name": "stderr",
     "output_type": "stream",
     "text": [
      "C:\\Users\\farm2103\\AppData\\Local\\Temp\\ipykernel_12704\\3552149977.py:18: DtypeWarning: Columns (51) have mixed types. Specify dtype option on import or set low_memory=False.\n",
      "  df = pd.read_csv(file_path, sep='\\t', comment='#')\n"
     ]
    },
    {
     "name": "stdout",
     "output_type": "stream",
     "text": [
      "Processing file: C:\\Users\\farm2103\\.1.project\\Data Set\\public-bcell-dataset\\D3-N\\D3-N_0_BRR_D3-N-019.adap.txt.results.tsv\n",
      "Processing file: C:\\Users\\farm2103\\.1.project\\Data Set\\public-bcell-dataset\\D3-N\\D3-N_0_BRR_D3-N-020.adap.txt.results.tsv\n"
     ]
    },
    {
     "name": "stderr",
     "output_type": "stream",
     "text": [
      "C:\\Users\\farm2103\\AppData\\Local\\Temp\\ipykernel_12704\\3552149977.py:18: DtypeWarning: Columns (51) have mixed types. Specify dtype option on import or set low_memory=False.\n",
      "  df = pd.read_csv(file_path, sep='\\t', comment='#')\n"
     ]
    },
    {
     "name": "stdout",
     "output_type": "stream",
     "text": [
      "Processing file: C:\\Users\\farm2103\\.1.project\\Data Set\\public-bcell-dataset\\D3-N\\D3-N_0_BRR_D3-N-021.adap.txt.results.tsv\n"
     ]
    },
    {
     "name": "stderr",
     "output_type": "stream",
     "text": [
      "C:\\Users\\farm2103\\AppData\\Local\\Temp\\ipykernel_12704\\3552149977.py:18: DtypeWarning: Columns (51,52,53) have mixed types. Specify dtype option on import or set low_memory=False.\n",
      "  df = pd.read_csv(file_path, sep='\\t', comment='#')\n"
     ]
    },
    {
     "name": "stdout",
     "output_type": "stream",
     "text": [
      "Processing file: C:\\Users\\farm2103\\.1.project\\Data Set\\public-bcell-dataset\\D3-N\\D3-N_0_BRR_D3-N-022.adap.txt.results.tsv\n",
      "Processing file: C:\\Users\\farm2103\\.1.project\\Data Set\\public-bcell-dataset\\D3-N\\D3-N_0_BRR_D3-N-023.adap.txt.results.tsv\n",
      "Processing file: C:\\Users\\farm2103\\.1.project\\Data Set\\public-bcell-dataset\\D3-N\\D3-N_0_BRR_D3-N-024.adap.txt.results.tsv\n",
      "Processing file: C:\\Users\\farm2103\\.1.project\\Data Set\\public-bcell-dataset\\D3-N\\D3-N_0_BRR_D3-N-025.adap.txt.results.tsv\n",
      "Processing file: C:\\Users\\farm2103\\.1.project\\Data Set\\public-bcell-dataset\\D3-N\\D3-N_0_BRR_D3-N-026.adap.txt.results.tsv\n"
     ]
    },
    {
     "name": "stderr",
     "output_type": "stream",
     "text": [
      "C:\\Users\\farm2103\\AppData\\Local\\Temp\\ipykernel_12704\\3552149977.py:18: DtypeWarning: Columns (12) have mixed types. Specify dtype option on import or set low_memory=False.\n",
      "  df = pd.read_csv(file_path, sep='\\t', comment='#')\n"
     ]
    },
    {
     "name": "stdout",
     "output_type": "stream",
     "text": [
      "Processing file: C:\\Users\\farm2103\\.1.project\\Data Set\\public-bcell-dataset\\D3-N\\D3-N_0_BRR_D3-N-027.adap.txt.results.tsv\n",
      "Processing file: C:\\Users\\farm2103\\.1.project\\Data Set\\public-bcell-dataset\\D3-N\\D3-N_0_BRR_D3-N-028.adap.txt.results.tsv\n",
      "Processing file: C:\\Users\\farm2103\\.1.project\\Data Set\\public-bcell-dataset\\D3-N\\D3-N_0_BRR_D3-N-029.adap.txt.results.tsv\n",
      "Processing file: C:\\Users\\farm2103\\.1.project\\Data Set\\public-bcell-dataset\\D3-N\\D3-N_0_BRR_D3-N-030.adap.txt.results.tsv\n",
      "Processing file: C:\\Users\\farm2103\\.1.project\\Data Set\\public-bcell-dataset\\D3-N\\D3-N_0_BRR_D3-N-031.adap.txt.results.tsv\n",
      "Processing file: C:\\Users\\farm2103\\.1.project\\Data Set\\public-bcell-dataset\\D3-N\\D3-N_0_BRR_D3-N-032.adap.txt.results.tsv\n",
      "Processing file: C:\\Users\\farm2103\\.1.project\\Data Set\\public-bcell-dataset\\D3-N\\D3-N_0_BRR_D3-N-033.adap.txt.results.tsv\n",
      "Processing file: C:\\Users\\farm2103\\.1.project\\Data Set\\public-bcell-dataset\\D3-N\\D3-N_0_BRR_D3-N-034.adap.txt.results.tsv\n"
     ]
    },
    {
     "name": "stderr",
     "output_type": "stream",
     "text": [
      "C:\\Users\\farm2103\\AppData\\Local\\Temp\\ipykernel_12704\\3552149977.py:18: DtypeWarning: Columns (51) have mixed types. Specify dtype option on import or set low_memory=False.\n",
      "  df = pd.read_csv(file_path, sep='\\t', comment='#')\n"
     ]
    },
    {
     "name": "stdout",
     "output_type": "stream",
     "text": [
      "Processing file: C:\\Users\\farm2103\\.1.project\\Data Set\\public-bcell-dataset\\D3-N\\D3-N_0_BRR_D3-N-035.adap.txt.results.tsv\n",
      "Processing file: C:\\Users\\farm2103\\.1.project\\Data Set\\public-bcell-dataset\\D3-N\\D3-N_0_BRR_D3-N-036.adap.txt.results.tsv\n",
      "Processing file: C:\\Users\\farm2103\\.1.project\\Data Set\\public-bcell-dataset\\D3-N\\D3-N_0_BRR_D3-N-037.adap.txt.results.tsv\n"
     ]
    },
    {
     "name": "stderr",
     "output_type": "stream",
     "text": [
      "C:\\Users\\farm2103\\AppData\\Local\\Temp\\ipykernel_12704\\3552149977.py:18: DtypeWarning: Columns (12,51,52) have mixed types. Specify dtype option on import or set low_memory=False.\n",
      "  df = pd.read_csv(file_path, sep='\\t', comment='#')\n"
     ]
    },
    {
     "name": "stdout",
     "output_type": "stream",
     "text": [
      "Processing file: C:\\Users\\farm2103\\.1.project\\Data Set\\public-bcell-dataset\\D3-N\\D3-N_0_BRR_D3-N-038.adap.txt.results.tsv\n",
      "Processing file: C:\\Users\\farm2103\\.1.project\\Data Set\\public-bcell-dataset\\D3-N\\D3-N_0_BRR_D3-N-039.adap.txt.results.tsv\n",
      "Processing file: C:\\Users\\farm2103\\.1.project\\Data Set\\public-bcell-dataset\\D3-N\\D3-N_0_BRR_D3-N-040.adap.txt.results.tsv\n",
      "Processing file: C:\\Users\\farm2103\\.1.project\\Data Set\\public-bcell-dataset\\D3-N\\D3-N_0_BRR_D3-N-041.adap.txt.results.tsv\n",
      "Processing file: C:\\Users\\farm2103\\.1.project\\Data Set\\public-bcell-dataset\\D3-N\\D3-N_0_BRR_D3-N-042.adap.txt.results.tsv\n",
      "Processing file: C:\\Users\\farm2103\\.1.project\\Data Set\\public-bcell-dataset\\D3-N\\D3-N_0_BRR_D3-N-043.adap.txt.results.tsv\n",
      "Processing file: C:\\Users\\farm2103\\.1.project\\Data Set\\public-bcell-dataset\\D3-N\\D3-N_0_BRR_D3-N-044.adap.txt.results.tsv\n",
      "Processing file: C:\\Users\\farm2103\\.1.project\\Data Set\\public-bcell-dataset\\D3-N\\D3-N_0_BRR_D3-N-045.adap.txt.results.tsv\n"
     ]
    },
    {
     "name": "stderr",
     "output_type": "stream",
     "text": [
      "C:\\Users\\farm2103\\AppData\\Local\\Temp\\ipykernel_12704\\3552149977.py:18: DtypeWarning: Columns (51) have mixed types. Specify dtype option on import or set low_memory=False.\n",
      "  df = pd.read_csv(file_path, sep='\\t', comment='#')\n"
     ]
    },
    {
     "name": "stdout",
     "output_type": "stream",
     "text": [
      "Processing file: C:\\Users\\farm2103\\.1.project\\Data Set\\public-bcell-dataset\\D3-N\\D3-N_0_BRR_D3-N-046.adap.txt.results.tsv\n",
      "Processing file: C:\\Users\\farm2103\\.1.project\\Data Set\\public-bcell-dataset\\D3-N\\D3-N_0_BRR_D3-N-047.adap.txt.results.tsv\n",
      "Processing file: C:\\Users\\farm2103\\.1.project\\Data Set\\public-bcell-dataset\\D3-N\\D3-N_0_BRR_D3-N-048.adap.txt.results.tsv\n",
      "Processing file: C:\\Users\\farm2103\\.1.project\\Data Set\\public-bcell-dataset\\D3-N\\D3-N_0_BRR_D3-N-049.adap.txt.results.tsv\n",
      "Processing file: C:\\Users\\farm2103\\.1.project\\Data Set\\public-bcell-dataset\\D3-N\\D3-N_0_BRR_D3-N-050.adap.txt.results.tsv\n"
     ]
    },
    {
     "name": "stderr",
     "output_type": "stream",
     "text": [
      "C:\\Users\\farm2103\\AppData\\Local\\Temp\\ipykernel_12704\\3552149977.py:18: DtypeWarning: Columns (26,51,52) have mixed types. Specify dtype option on import or set low_memory=False.\n",
      "  df = pd.read_csv(file_path, sep='\\t', comment='#')\n"
     ]
    },
    {
     "name": "stdout",
     "output_type": "stream",
     "text": [
      "Processing file: C:\\Users\\farm2103\\.1.project\\Data Set\\public-bcell-dataset\\D3-N\\D3-N_0_BRR_D3-N-051.adap.txt.results.tsv\n",
      "Processing file: C:\\Users\\farm2103\\.1.project\\Data Set\\public-bcell-dataset\\D3-N\\D3-N_0_BRR_D3-N-052.adap.txt.results.tsv\n",
      "Processing file: C:\\Users\\farm2103\\.1.project\\Data Set\\public-bcell-dataset\\D3-N\\D3-N_0_BRR_D3-N-053.adap.txt.results.tsv\n",
      "Processing file: C:\\Users\\farm2103\\.1.project\\Data Set\\public-bcell-dataset\\D3-N\\D3-N_0_BRR_D3-N-054.adap.txt.results.tsv\n",
      "Processing file: C:\\Users\\farm2103\\.1.project\\Data Set\\public-bcell-dataset\\D3-N\\D3-N_0_BRR_D3-N-055.adap.txt.results.tsv\n",
      "Processing file: C:\\Users\\farm2103\\.1.project\\Data Set\\public-bcell-dataset\\D3-N\\D3-N_0_BRR_D3-N-056.adap.txt.results.tsv\n",
      "Processing file: C:\\Users\\farm2103\\.1.project\\Data Set\\public-bcell-dataset\\D3-N\\D3-N_0_BRR_D3-N-057.adap.txt.results.tsv\n"
     ]
    },
    {
     "name": "stderr",
     "output_type": "stream",
     "text": [
      "C:\\Users\\farm2103\\AppData\\Local\\Temp\\ipykernel_12704\\3552149977.py:18: DtypeWarning: Columns (51,52) have mixed types. Specify dtype option on import or set low_memory=False.\n",
      "  df = pd.read_csv(file_path, sep='\\t', comment='#')\n"
     ]
    },
    {
     "name": "stdout",
     "output_type": "stream",
     "text": [
      "Processing file: C:\\Users\\farm2103\\.1.project\\Data Set\\public-bcell-dataset\\D3-N\\D3-N_0_BRR_D3-N-058.adap.txt.results.tsv\n"
     ]
    },
    {
     "name": "stderr",
     "output_type": "stream",
     "text": [
      "C:\\Users\\farm2103\\AppData\\Local\\Temp\\ipykernel_12704\\3552149977.py:18: DtypeWarning: Columns (12,51) have mixed types. Specify dtype option on import or set low_memory=False.\n",
      "  df = pd.read_csv(file_path, sep='\\t', comment='#')\n"
     ]
    },
    {
     "name": "stdout",
     "output_type": "stream",
     "text": [
      "Processing file: C:\\Users\\farm2103\\.1.project\\Data Set\\public-bcell-dataset\\D3-N\\D3-N_0_BRR_D3-N-059.adap.txt.results.tsv\n",
      "Processing file: C:\\Users\\farm2103\\.1.project\\Data Set\\public-bcell-dataset\\D3-N\\D3-N_0_BRR_D3-N-060.adap.txt.results.tsv\n"
     ]
    },
    {
     "name": "stderr",
     "output_type": "stream",
     "text": [
      "C:\\Users\\farm2103\\AppData\\Local\\Temp\\ipykernel_12704\\3552149977.py:18: DtypeWarning: Columns (51) have mixed types. Specify dtype option on import or set low_memory=False.\n",
      "  df = pd.read_csv(file_path, sep='\\t', comment='#')\n"
     ]
    },
    {
     "name": "stdout",
     "output_type": "stream",
     "text": [
      "Processing file: C:\\Users\\farm2103\\.1.project\\Data Set\\public-bcell-dataset\\D3-N\\D3-N_0_BRR_D3-N-061.adap.txt.results.tsv\n",
      "Processing file: C:\\Users\\farm2103\\.1.project\\Data Set\\public-bcell-dataset\\D3-N\\D3-N_0_BRR_D3-N-062.adap.txt.results.tsv\n",
      "Processing file: C:\\Users\\farm2103\\.1.project\\Data Set\\public-bcell-dataset\\D3-N\\D3-N_0_BRR_D3-N-063.adap.txt.results.tsv\n",
      "Processing file: C:\\Users\\farm2103\\.1.project\\Data Set\\public-bcell-dataset\\D3-N\\D3-N_0_BRR_D3-N-064.adap.txt.results.tsv\n"
     ]
    },
    {
     "name": "stderr",
     "output_type": "stream",
     "text": [
      "C:\\Users\\farm2103\\AppData\\Local\\Temp\\ipykernel_12704\\3552149977.py:18: DtypeWarning: Columns (51) have mixed types. Specify dtype option on import or set low_memory=False.\n",
      "  df = pd.read_csv(file_path, sep='\\t', comment='#')\n"
     ]
    },
    {
     "name": "stdout",
     "output_type": "stream",
     "text": [
      "Processing file: C:\\Users\\farm2103\\.1.project\\Data Set\\public-bcell-dataset\\D3-N\\D3-N_0_BRR_D3-N-065.adap.txt.results.tsv\n",
      "Processing file: C:\\Users\\farm2103\\.1.project\\Data Set\\public-bcell-dataset\\D3-N\\D3-N_0_BRR_D3-N-066.adap.txt.results.tsv\n",
      "Processing file: C:\\Users\\farm2103\\.1.project\\Data Set\\public-bcell-dataset\\D3-N\\D3-N_0_BRR_D3-N-067.adap.txt.results.tsv\n"
     ]
    },
    {
     "name": "stderr",
     "output_type": "stream",
     "text": [
      "C:\\Users\\farm2103\\AppData\\Local\\Temp\\ipykernel_12704\\3552149977.py:18: DtypeWarning: Columns (51) have mixed types. Specify dtype option on import or set low_memory=False.\n",
      "  df = pd.read_csv(file_path, sep='\\t', comment='#')\n"
     ]
    },
    {
     "name": "stdout",
     "output_type": "stream",
     "text": [
      "Processing file: C:\\Users\\farm2103\\.1.project\\Data Set\\public-bcell-dataset\\D3-N\\D3-N_0_BRR_D3-N-068.adap.txt.results.tsv\n",
      "Processing file: C:\\Users\\farm2103\\.1.project\\Data Set\\public-bcell-dataset\\D3-N\\D3-N_0_BRR_D3-N-069.adap.txt.results.tsv\n",
      "Processing file: C:\\Users\\farm2103\\.1.project\\Data Set\\public-bcell-dataset\\D3-N\\D3-N_0_BRR_D3-N-070.adap.txt.results.tsv\n"
     ]
    },
    {
     "name": "stderr",
     "output_type": "stream",
     "text": [
      "C:\\Users\\farm2103\\AppData\\Local\\Temp\\ipykernel_12704\\3552149977.py:18: DtypeWarning: Columns (51) have mixed types. Specify dtype option on import or set low_memory=False.\n",
      "  df = pd.read_csv(file_path, sep='\\t', comment='#')\n"
     ]
    },
    {
     "name": "stdout",
     "output_type": "stream",
     "text": [
      "Processing file: C:\\Users\\farm2103\\.1.project\\Data Set\\public-bcell-dataset\\D3-N\\D3-N_0_BRR_D3-N-071.adap.txt.results.tsv\n",
      "Processing file: C:\\Users\\farm2103\\.1.project\\Data Set\\public-bcell-dataset\\D3-N\\D3-N_0_BRR_D3-N-072.adap.txt.results.tsv\n",
      "Processing file: C:\\Users\\farm2103\\.1.project\\Data Set\\public-bcell-dataset\\D3-N\\D3-N_0_BRR_D3-N-073.adap.txt.results.tsv\n",
      "Processing file: C:\\Users\\farm2103\\.1.project\\Data Set\\public-bcell-dataset\\D3-N\\D3-N_0_BRR_D3-N-074.adap.txt.results.tsv\n",
      "Processing file: C:\\Users\\farm2103\\.1.project\\Data Set\\public-bcell-dataset\\D3-N\\D3-N_0_BRR_D3-N-075.adap.txt.results.tsv\n",
      "Processing file: C:\\Users\\farm2103\\.1.project\\Data Set\\public-bcell-dataset\\D3-N\\D3-N_0_BRR_D3-N-076.adap.txt.results.tsv\n"
     ]
    },
    {
     "name": "stderr",
     "output_type": "stream",
     "text": [
      "C:\\Users\\farm2103\\AppData\\Local\\Temp\\ipykernel_12704\\3552149977.py:18: DtypeWarning: Columns (51) have mixed types. Specify dtype option on import or set low_memory=False.\n",
      "  df = pd.read_csv(file_path, sep='\\t', comment='#')\n"
     ]
    },
    {
     "name": "stdout",
     "output_type": "stream",
     "text": [
      "Processing file: C:\\Users\\farm2103\\.1.project\\Data Set\\public-bcell-dataset\\D3-N\\D3-N_0_BRR_D3-N-077.adap.txt.results.tsv\n"
     ]
    },
    {
     "name": "stderr",
     "output_type": "stream",
     "text": [
      "C:\\Users\\farm2103\\AppData\\Local\\Temp\\ipykernel_12704\\3552149977.py:18: DtypeWarning: Columns (51) have mixed types. Specify dtype option on import or set low_memory=False.\n",
      "  df = pd.read_csv(file_path, sep='\\t', comment='#')\n"
     ]
    },
    {
     "name": "stdout",
     "output_type": "stream",
     "text": [
      "Processing file: C:\\Users\\farm2103\\.1.project\\Data Set\\public-bcell-dataset\\D3-N\\D3-N_0_BRR_D3-N-078.adap.txt.results.tsv\n",
      "Processing file: C:\\Users\\farm2103\\.1.project\\Data Set\\public-bcell-dataset\\D3-N\\D3-N_0_BRR_D3-N-079.adap.txt.results.tsv\n",
      "Processing file: C:\\Users\\farm2103\\.1.project\\Data Set\\public-bcell-dataset\\D3-N\\D3-N_0_BRR_D3-N-080.adap.txt.results.tsv\n",
      "Processing file: C:\\Users\\farm2103\\.1.project\\Data Set\\public-bcell-dataset\\D3-N\\D3-N_0_BRR_D3-N-081.adap.txt.results.tsv\n",
      "Processing file: C:\\Users\\farm2103\\.1.project\\Data Set\\public-bcell-dataset\\D3-N\\D3-N_0_BRR_D3-N-082.adap.txt.results.tsv\n"
     ]
    },
    {
     "name": "stderr",
     "output_type": "stream",
     "text": [
      "C:\\Users\\farm2103\\AppData\\Local\\Temp\\ipykernel_12704\\3552149977.py:18: DtypeWarning: Columns (51) have mixed types. Specify dtype option on import or set low_memory=False.\n",
      "  df = pd.read_csv(file_path, sep='\\t', comment='#')\n"
     ]
    },
    {
     "name": "stdout",
     "output_type": "stream",
     "text": [
      "Processing file: C:\\Users\\farm2103\\.1.project\\Data Set\\public-bcell-dataset\\D3-N\\D3-N_0_BRR_D3-N-083.adap.txt.results.tsv\n",
      "Processing file: C:\\Users\\farm2103\\.1.project\\Data Set\\public-bcell-dataset\\D3-N\\D3-N_0_BRR_D3-N-084.adap.txt.results.tsv\n",
      "Processing file: C:\\Users\\farm2103\\.1.project\\Data Set\\public-bcell-dataset\\D3-N\\D3-N_0_BRR_D3-N-085.adap.txt.results.tsv\n",
      "Processing file: C:\\Users\\farm2103\\.1.project\\Data Set\\public-bcell-dataset\\D3-N\\D3-N_0_BRR_D3-N-086.adap.txt.results.tsv\n",
      "Processing file: C:\\Users\\farm2103\\.1.project\\Data Set\\public-bcell-dataset\\D3-N\\D3-N_0_BRR_D3-N-087.adap.txt.results.tsv\n",
      "Processing file: C:\\Users\\farm2103\\.1.project\\Data Set\\public-bcell-dataset\\D3-N\\D3-N_0_BRR_D3-N-088.adap.txt.results.tsv\n",
      "Processing file: C:\\Users\\farm2103\\.1.project\\Data Set\\public-bcell-dataset\\D3-N\\D3-N_0_BRR_D3-N-089.adap.txt.results.tsv\n"
     ]
    },
    {
     "name": "stderr",
     "output_type": "stream",
     "text": [
      "C:\\Users\\farm2103\\AppData\\Local\\Temp\\ipykernel_12704\\3552149977.py:18: DtypeWarning: Columns (12,51) have mixed types. Specify dtype option on import or set low_memory=False.\n",
      "  df = pd.read_csv(file_path, sep='\\t', comment='#')\n"
     ]
    },
    {
     "name": "stdout",
     "output_type": "stream",
     "text": [
      "Processing file: C:\\Users\\farm2103\\.1.project\\Data Set\\public-bcell-dataset\\D3-N\\D3-N_0_BRR_D3-N-090.adap.txt.results.tsv\n"
     ]
    },
    {
     "name": "stderr",
     "output_type": "stream",
     "text": [
      "C:\\Users\\farm2103\\AppData\\Local\\Temp\\ipykernel_12704\\3552149977.py:18: DtypeWarning: Columns (51) have mixed types. Specify dtype option on import or set low_memory=False.\n",
      "  df = pd.read_csv(file_path, sep='\\t', comment='#')\n"
     ]
    },
    {
     "name": "stdout",
     "output_type": "stream",
     "text": [
      "Processing file: C:\\Users\\farm2103\\.1.project\\Data Set\\public-bcell-dataset\\D3-N\\D3-N_0_BRR_D3-N-091.adap.txt.results.tsv\n",
      "Processing file: C:\\Users\\farm2103\\.1.project\\Data Set\\public-bcell-dataset\\D3-N\\D3-N_0_BRR_D3-N-092.adap.txt.results.tsv\n",
      "Processing file: C:\\Users\\farm2103\\.1.project\\Data Set\\public-bcell-dataset\\D3-N\\D3-N_0_BRR_D3-N-093.adap.txt.results.tsv\n",
      "Processing file: C:\\Users\\farm2103\\.1.project\\Data Set\\public-bcell-dataset\\D3-N\\D3-N_0_BRR_D3-N-094.adap.txt.results.tsv\n",
      "Processing file: C:\\Users\\farm2103\\.1.project\\Data Set\\public-bcell-dataset\\D3-N\\D3-N_0_BRR_D3-N-095.adap.txt.results.tsv\n"
     ]
    },
    {
     "name": "stderr",
     "output_type": "stream",
     "text": [
      "C:\\Users\\farm2103\\AppData\\Local\\Temp\\ipykernel_12704\\3552149977.py:18: DtypeWarning: Columns (51) have mixed types. Specify dtype option on import or set low_memory=False.\n",
      "  df = pd.read_csv(file_path, sep='\\t', comment='#')\n"
     ]
    },
    {
     "name": "stdout",
     "output_type": "stream",
     "text": [
      "Processing file: C:\\Users\\farm2103\\.1.project\\Data Set\\public-bcell-dataset\\D3-N\\D3-N_0_BRR_D3-N-096.adap.txt.results.tsv\n",
      "Processing file: C:\\Users\\farm2103\\.1.project\\Data Set\\public-bcell-dataset\\D3-N\\D3-N_0_BRR_D3-N-097.adap.txt.results.tsv\n",
      "Processing file: C:\\Users\\farm2103\\.1.project\\Data Set\\public-bcell-dataset\\D3-N\\D3-N_0_BRR_D3-N-098.adap.txt.results.tsv\n"
     ]
    },
    {
     "name": "stderr",
     "output_type": "stream",
     "text": [
      "C:\\Users\\farm2103\\AppData\\Local\\Temp\\ipykernel_12704\\3552149977.py:18: DtypeWarning: Columns (51) have mixed types. Specify dtype option on import or set low_memory=False.\n",
      "  df = pd.read_csv(file_path, sep='\\t', comment='#')\n"
     ]
    },
    {
     "name": "stdout",
     "output_type": "stream",
     "text": [
      "Processing file: C:\\Users\\farm2103\\.1.project\\Data Set\\public-bcell-dataset\\D3-N\\D3-N_0_BRR_D3-N-099.adap.txt.results.tsv\n",
      "Processing file: C:\\Users\\farm2103\\.1.project\\Data Set\\public-bcell-dataset\\D3-N\\D3-N_0_BRR_D3-N-100.adap.txt.results.tsv\n",
      "Processing file: C:\\Users\\farm2103\\.1.project\\Data Set\\public-bcell-dataset\\D3-N\\D3-N_0_BRR_D3-N-101.adap.txt.results.tsv\n",
      "Processing file: C:\\Users\\farm2103\\.1.project\\Data Set\\public-bcell-dataset\\D3-N\\D3-N_0_BRR_D3-N-102.adap.txt.results.tsv\n",
      "Processing file: C:\\Users\\farm2103\\.1.project\\Data Set\\public-bcell-dataset\\D3-N\\D3-N_0_BRR_D3-N-103.adap.txt.results.tsv\n",
      "Processing file: C:\\Users\\farm2103\\.1.project\\Data Set\\public-bcell-dataset\\D3-N\\D3-N_0_BRR_D3-N-104.adap.txt.results.tsv\n",
      "Processing file: C:\\Users\\farm2103\\.1.project\\Data Set\\public-bcell-dataset\\D3-N\\D3-N_0_BRR_D3-N-105.adap.txt.results.tsv\n"
     ]
    },
    {
     "name": "stderr",
     "output_type": "stream",
     "text": [
      "C:\\Users\\farm2103\\AppData\\Local\\Temp\\ipykernel_12704\\3552149977.py:18: DtypeWarning: Columns (12) have mixed types. Specify dtype option on import or set low_memory=False.\n",
      "  df = pd.read_csv(file_path, sep='\\t', comment='#')\n"
     ]
    },
    {
     "name": "stdout",
     "output_type": "stream",
     "text": [
      "Processing file: C:\\Users\\farm2103\\.1.project\\Data Set\\public-bcell-dataset\\D3-N\\D3-N_0_BRR_D3-N-106.adap.txt.results.tsv\n",
      "Processing file: C:\\Users\\farm2103\\.1.project\\Data Set\\public-bcell-dataset\\D3-N\\D3-N_0_BRR_D3-N-107.adap.txt.results.tsv\n",
      "Processing file: C:\\Users\\farm2103\\.1.project\\Data Set\\public-bcell-dataset\\D3-N\\D3-N_0_BRR_D3-N-108.adap.txt.results.tsv\n",
      "Processing file: C:\\Users\\farm2103\\.1.project\\Data Set\\public-bcell-dataset\\D3-N\\D3-N_0_BRR_D3-N-109.adap.txt.results.tsv\n",
      "Processing file: C:\\Users\\farm2103\\.1.project\\Data Set\\public-bcell-dataset\\D3-N\\D3-N_0_BRR_D3-N-110.adap.txt.results.tsv\n",
      "Processing file: C:\\Users\\farm2103\\.1.project\\Data Set\\public-bcell-dataset\\D3-N\\D3-N_0_BRR_D3-N-111.adap.txt.results.tsv\n",
      "Processing file: C:\\Users\\farm2103\\.1.project\\Data Set\\public-bcell-dataset\\D3-N\\D3-N_0_BRR_D3-N-112.adap.txt.results.tsv\n",
      "Processing file: C:\\Users\\farm2103\\.1.project\\Data Set\\public-bcell-dataset\\D3-N\\D3-N_0_BRR_D3-N-113.adap.txt.results.tsv\n",
      "Processing file: C:\\Users\\farm2103\\.1.project\\Data Set\\public-bcell-dataset\\D3-N\\D3-N_0_BRR_D3-N-114.adap.txt.results.tsv\n"
     ]
    },
    {
     "name": "stderr",
     "output_type": "stream",
     "text": [
      "C:\\Users\\farm2103\\AppData\\Local\\Temp\\ipykernel_12704\\3552149977.py:18: DtypeWarning: Columns (51) have mixed types. Specify dtype option on import or set low_memory=False.\n",
      "  df = pd.read_csv(file_path, sep='\\t', comment='#')\n"
     ]
    },
    {
     "name": "stdout",
     "output_type": "stream",
     "text": [
      "Processing file: C:\\Users\\farm2103\\.1.project\\Data Set\\public-bcell-dataset\\D3-N\\D3-N_0_BRR_D3-N-115.adap.txt.results.tsv\n",
      "Processing file: C:\\Users\\farm2103\\.1.project\\Data Set\\public-bcell-dataset\\D3-N\\D3-N_0_BRR_D3-N-116.adap.txt.results.tsv\n",
      "Processing file: C:\\Users\\farm2103\\.1.project\\Data Set\\public-bcell-dataset\\D3-N\\D3-N_0_BRR_D3-N-117.adap.txt.results.tsv\n"
     ]
    },
    {
     "name": "stderr",
     "output_type": "stream",
     "text": [
      "C:\\Users\\farm2103\\AppData\\Local\\Temp\\ipykernel_12704\\3552149977.py:18: DtypeWarning: Columns (51) have mixed types. Specify dtype option on import or set low_memory=False.\n",
      "  df = pd.read_csv(file_path, sep='\\t', comment='#')\n"
     ]
    },
    {
     "name": "stdout",
     "output_type": "stream",
     "text": [
      "Processing file: C:\\Users\\farm2103\\.1.project\\Data Set\\public-bcell-dataset\\D3-N\\D3-N_0_BRR_D3-N-118.adap.txt.results.tsv\n",
      "Processing file: C:\\Users\\farm2103\\.1.project\\Data Set\\public-bcell-dataset\\D3-N\\D3-N_0_BRR_D3-N-119.adap.txt.results.tsv\n",
      "Processing file: C:\\Users\\farm2103\\.1.project\\Data Set\\public-bcell-dataset\\D3-N\\D3-N_0_BRR_D3-N-120.adap.txt.results.tsv\n"
     ]
    },
    {
     "name": "stderr",
     "output_type": "stream",
     "text": [
      "C:\\Users\\farm2103\\AppData\\Local\\Temp\\ipykernel_12704\\3552149977.py:18: DtypeWarning: Columns (51) have mixed types. Specify dtype option on import or set low_memory=False.\n",
      "  df = pd.read_csv(file_path, sep='\\t', comment='#')\n"
     ]
    },
    {
     "name": "stdout",
     "output_type": "stream",
     "text": [
      "Processing file: C:\\Users\\farm2103\\.1.project\\Data Set\\public-bcell-dataset\\D3-N\\D3-N_0_BRR_D3-N-121.adap.txt.results.tsv\n",
      "Processing file: C:\\Users\\farm2103\\.1.project\\Data Set\\public-bcell-dataset\\D3-N\\D3-N_0_BRR_D3-N-122.adap.txt.results.tsv\n"
     ]
    },
    {
     "name": "stderr",
     "output_type": "stream",
     "text": [
      "C:\\Users\\farm2103\\AppData\\Local\\Temp\\ipykernel_12704\\3552149977.py:18: DtypeWarning: Columns (12) have mixed types. Specify dtype option on import or set low_memory=False.\n",
      "  df = pd.read_csv(file_path, sep='\\t', comment='#')\n"
     ]
    },
    {
     "name": "stdout",
     "output_type": "stream",
     "text": [
      "Processing file: C:\\Users\\farm2103\\.1.project\\Data Set\\public-bcell-dataset\\D3-N\\D3-N_0_BRR_D3-N-123.adap.txt.results.tsv\n",
      "Processing file: C:\\Users\\farm2103\\.1.project\\Data Set\\public-bcell-dataset\\D3-N\\D3-N_0_BRR_D3-N-124.adap.txt.results.tsv\n",
      "Processing file: C:\\Users\\farm2103\\.1.project\\Data Set\\public-bcell-dataset\\D3-N\\D3-N_0_BRR_D3-N-125.adap.txt.results.tsv\n",
      "Processing file: C:\\Users\\farm2103\\.1.project\\Data Set\\public-bcell-dataset\\D3-N\\D3-N_0_BRR_D3-N-126.adap.txt.results.tsv\n",
      "Processing file: C:\\Users\\farm2103\\.1.project\\Data Set\\public-bcell-dataset\\D3-N\\D3-N_0_BRR_D3-N-127.adap.txt.results.tsv\n",
      "Processing file: C:\\Users\\farm2103\\.1.project\\Data Set\\public-bcell-dataset\\D3-N\\D3-N_0_BRR_D3-N-128.adap.txt.results.tsv\n",
      "Processing file: C:\\Users\\farm2103\\.1.project\\Data Set\\public-bcell-dataset\\D3-N\\D3-N_0_BRR_D3-N-129.adap.txt.results.tsv\n",
      "Processing file: C:\\Users\\farm2103\\.1.project\\Data Set\\public-bcell-dataset\\D3-N\\D3-N_0_BRR_D3-N-130.adap.txt.results.tsv\n",
      "Processing file: C:\\Users\\farm2103\\.1.project\\Data Set\\public-bcell-dataset\\D3-N\\D3-N_0_BRR_D3-N-131.adap.txt.results.tsv\n"
     ]
    },
    {
     "name": "stderr",
     "output_type": "stream",
     "text": [
      "C:\\Users\\farm2103\\AppData\\Local\\Temp\\ipykernel_12704\\3552149977.py:18: DtypeWarning: Columns (51) have mixed types. Specify dtype option on import or set low_memory=False.\n",
      "  df = pd.read_csv(file_path, sep='\\t', comment='#')\n"
     ]
    },
    {
     "name": "stdout",
     "output_type": "stream",
     "text": [
      "Processing file: C:\\Users\\farm2103\\.1.project\\Data Set\\public-bcell-dataset\\D3-N\\D3-N_0_BRR_D3-N-132.adap.txt.results.tsv\n",
      "Processing file: C:\\Users\\farm2103\\.1.project\\Data Set\\public-bcell-dataset\\D3-N\\D3-N_0_BRR_D3-N-133.adap.txt.results.tsv\n"
     ]
    },
    {
     "name": "stderr",
     "output_type": "stream",
     "text": [
      "C:\\Users\\farm2103\\AppData\\Local\\Temp\\ipykernel_12704\\3552149977.py:18: DtypeWarning: Columns (51) have mixed types. Specify dtype option on import or set low_memory=False.\n",
      "  df = pd.read_csv(file_path, sep='\\t', comment='#')\n"
     ]
    },
    {
     "name": "stdout",
     "output_type": "stream",
     "text": [
      "Processing file: C:\\Users\\farm2103\\.1.project\\Data Set\\public-bcell-dataset\\D3-N\\D3-N_0_BRR_D3-N-134.adap.txt.results.tsv\n",
      "Processing file: C:\\Users\\farm2103\\.1.project\\Data Set\\public-bcell-dataset\\D3-N\\D3-N_0_BRR_D3-N-135.adap.txt.results.tsv\n",
      "Processing file: C:\\Users\\farm2103\\.1.project\\Data Set\\public-bcell-dataset\\D3-N\\D3-N_0_BRR_D3-N-136.adap.txt.results.tsv\n",
      "Processing file: C:\\Users\\farm2103\\.1.project\\Data Set\\public-bcell-dataset\\D3-N\\D3-N_0_BRR_D3-N-137.adap.txt.results.tsv\n",
      "Processing file: C:\\Users\\farm2103\\.1.project\\Data Set\\public-bcell-dataset\\D3-N\\D3-N_0_BRR_D3-N-138.adap.txt.results.tsv\n"
     ]
    },
    {
     "name": "stderr",
     "output_type": "stream",
     "text": [
      "C:\\Users\\farm2103\\AppData\\Local\\Temp\\ipykernel_12704\\3552149977.py:18: DtypeWarning: Columns (12,51) have mixed types. Specify dtype option on import or set low_memory=False.\n",
      "  df = pd.read_csv(file_path, sep='\\t', comment='#')\n"
     ]
    },
    {
     "name": "stdout",
     "output_type": "stream",
     "text": [
      "Processing file: C:\\Users\\farm2103\\.1.project\\Data Set\\public-bcell-dataset\\D3-N\\D3-N_0_BRR_D3-N-139.adap.txt.results.tsv\n",
      "Processing file: C:\\Users\\farm2103\\.1.project\\Data Set\\public-bcell-dataset\\D3-N\\D3-N_0_BRR_D3-N-140.adap.txt.results.tsv\n",
      "Processing file: C:\\Users\\farm2103\\.1.project\\Data Set\\public-bcell-dataset\\D3-N\\D3-N_0_BRR_D3-N-141.adap.txt.results.tsv\n",
      "Processing file: C:\\Users\\farm2103\\.1.project\\Data Set\\public-bcell-dataset\\D3-N\\D3-N_0_BRR_D3-N-142.adap.txt.results.tsv\n",
      "Processing file: C:\\Users\\farm2103\\.1.project\\Data Set\\public-bcell-dataset\\D3-N\\D3-N_0_BRR_D3-N-143.adap.txt.results.tsv\n",
      "Processing file: C:\\Users\\farm2103\\.1.project\\Data Set\\public-bcell-dataset\\D3-N\\D3-N_0_BRR_D3-N-144.adap.txt.results.tsv\n",
      "Processing file: C:\\Users\\farm2103\\.1.project\\Data Set\\public-bcell-dataset\\D3-N\\D3-N_0_BRR_D3-N-145.adap.txt.results.tsv\n"
     ]
    },
    {
     "name": "stderr",
     "output_type": "stream",
     "text": [
      "C:\\Users\\farm2103\\AppData\\Local\\Temp\\ipykernel_12704\\3552149977.py:18: DtypeWarning: Columns (51) have mixed types. Specify dtype option on import or set low_memory=False.\n",
      "  df = pd.read_csv(file_path, sep='\\t', comment='#')\n"
     ]
    },
    {
     "name": "stdout",
     "output_type": "stream",
     "text": [
      "Processing file: C:\\Users\\farm2103\\.1.project\\Data Set\\public-bcell-dataset\\D3-N\\D3-N_0_BRR_D3-N-146.adap.txt.results.tsv\n",
      "Processing file: C:\\Users\\farm2103\\.1.project\\Data Set\\public-bcell-dataset\\D3-N\\D3-N_0_BRR_D3-N-147.adap.txt.results.tsv\n"
     ]
    },
    {
     "name": "stderr",
     "output_type": "stream",
     "text": [
      "C:\\Users\\farm2103\\AppData\\Local\\Temp\\ipykernel_12704\\3552149977.py:18: DtypeWarning: Columns (12) have mixed types. Specify dtype option on import or set low_memory=False.\n",
      "  df = pd.read_csv(file_path, sep='\\t', comment='#')\n"
     ]
    },
    {
     "name": "stdout",
     "output_type": "stream",
     "text": [
      "Processing file: C:\\Users\\farm2103\\.1.project\\Data Set\\public-bcell-dataset\\D3-N\\D3-N_0_BRR_D3-N-148.adap.txt.results.tsv\n",
      "Processing file: C:\\Users\\farm2103\\.1.project\\Data Set\\public-bcell-dataset\\D3-N\\D3-N_0_BRR_D3-N-149.adap.txt.results.tsv\n",
      "Processing file: C:\\Users\\farm2103\\.1.project\\Data Set\\public-bcell-dataset\\D3-N\\D3-N_0_BRR_D3-N-150.adap.txt.results.tsv\n",
      "Processing file: C:\\Users\\farm2103\\.1.project\\Data Set\\public-bcell-dataset\\D3-N\\D3-N_0_BRR_D3-N-151.adap.txt.results.tsv\n",
      "Processing file: C:\\Users\\farm2103\\.1.project\\Data Set\\public-bcell-dataset\\D3-N\\D3-N_0_BRR_D3-N-152.adap.txt.results.tsv\n",
      "Processing file: C:\\Users\\farm2103\\.1.project\\Data Set\\public-bcell-dataset\\D3-N\\D3-N_0_BRR_D3-N-153.adap.txt.results.tsv\n",
      "Processing file: C:\\Users\\farm2103\\.1.project\\Data Set\\public-bcell-dataset\\D3-N\\D3-N_0_BRR_D3-N-154.adap.txt.results.tsv\n"
     ]
    },
    {
     "name": "stderr",
     "output_type": "stream",
     "text": [
      "C:\\Users\\farm2103\\AppData\\Local\\Temp\\ipykernel_12704\\3552149977.py:18: DtypeWarning: Columns (51) have mixed types. Specify dtype option on import or set low_memory=False.\n",
      "  df = pd.read_csv(file_path, sep='\\t', comment='#')\n"
     ]
    },
    {
     "name": "stdout",
     "output_type": "stream",
     "text": [
      "Processing file: C:\\Users\\farm2103\\.1.project\\Data Set\\public-bcell-dataset\\D3-N\\D3-N_0_BRR_D3-N-155.adap.txt.results.tsv\n"
     ]
    },
    {
     "name": "stderr",
     "output_type": "stream",
     "text": [
      "C:\\Users\\farm2103\\AppData\\Local\\Temp\\ipykernel_12704\\3552149977.py:18: DtypeWarning: Columns (12,51,52) have mixed types. Specify dtype option on import or set low_memory=False.\n",
      "  df = pd.read_csv(file_path, sep='\\t', comment='#')\n"
     ]
    },
    {
     "name": "stdout",
     "output_type": "stream",
     "text": [
      "Processing file: C:\\Users\\farm2103\\.1.project\\Data Set\\public-bcell-dataset\\D3-N\\D3-N_0_BRR_D3-N-156.adap.txt.results.tsv\n",
      "Processing file: C:\\Users\\farm2103\\.1.project\\Data Set\\public-bcell-dataset\\D3-N\\D3-N_0_BRR_D3-N-157.adap.txt.results.tsv\n",
      "Processing file: C:\\Users\\farm2103\\.1.project\\Data Set\\public-bcell-dataset\\D3-N\\D3-N_0_BRR_D3-N-158.adap.txt.results.tsv\n",
      "Processing file: C:\\Users\\farm2103\\.1.project\\Data Set\\public-bcell-dataset\\D3-N\\D3-N_0_BRR_D3-N-159.adap.txt.results.tsv\n",
      "Processing file: C:\\Users\\farm2103\\.1.project\\Data Set\\public-bcell-dataset\\D3-N\\D3-N_0_BRR_D3-N-160.adap.txt.results.tsv\n",
      "Processing file: C:\\Users\\farm2103\\.1.project\\Data Set\\public-bcell-dataset\\D3-N\\D3-N_0_BRR_D3-N-161.adap.txt.results.tsv\n",
      "Processing file: C:\\Users\\farm2103\\.1.project\\Data Set\\public-bcell-dataset\\D3-N\\D3-N_0_BRR_D3-N-162.adap.txt.results.tsv\n",
      "Processing file: C:\\Users\\farm2103\\.1.project\\Data Set\\public-bcell-dataset\\D3-N\\D3-N_0_BRR_D3-N-163.adap.txt.results.tsv\n",
      "Processing file: C:\\Users\\farm2103\\.1.project\\Data Set\\public-bcell-dataset\\D3-N\\D3-N_0_BRR_D3-N-164.adap.txt.results.tsv\n",
      "Processing file: C:\\Users\\farm2103\\.1.project\\Data Set\\public-bcell-dataset\\D3-N\\D3-N_0_BRR_D3-N-165.adap.txt.results.tsv\n",
      "Processing file: C:\\Users\\farm2103\\.1.project\\Data Set\\public-bcell-dataset\\D3-N\\D3-N_0_BRR_D3-N-166.adap.txt.results.tsv\n",
      "Processing file: C:\\Users\\farm2103\\.1.project\\Data Set\\public-bcell-dataset\\D3-N\\D3-N_0_BRR_D3-N-167.adap.txt.results.tsv\n",
      "Processing file: C:\\Users\\farm2103\\.1.project\\Data Set\\public-bcell-dataset\\D3-N\\D3-N_0_BRR_D3-N-168.adap.txt.results.tsv\n",
      "Processing file: C:\\Users\\farm2103\\.1.project\\Data Set\\public-bcell-dataset\\D3-N\\D3-N_0_BRR_D3-N-169.adap.txt.results.tsv\n",
      "Processing file: C:\\Users\\farm2103\\.1.project\\Data Set\\public-bcell-dataset\\D3-N\\D3-N_0_BRR_D3-N-170.adap.txt.results.tsv\n",
      "Processing file: C:\\Users\\farm2103\\.1.project\\Data Set\\public-bcell-dataset\\D3-N\\D3-N_0_BRR_D3-N-171.adap.txt.results.tsv\n"
     ]
    },
    {
     "name": "stderr",
     "output_type": "stream",
     "text": [
      "C:\\Users\\farm2103\\AppData\\Local\\Temp\\ipykernel_12704\\3552149977.py:18: DtypeWarning: Columns (12,18,19,24,25,26,44,48,49,51,52,53,69,72) have mixed types. Specify dtype option on import or set low_memory=False.\n",
      "  df = pd.read_csv(file_path, sep='\\t', comment='#')\n"
     ]
    },
    {
     "name": "stdout",
     "output_type": "stream",
     "text": [
      "Processing file: C:\\Users\\farm2103\\.1.project\\Data Set\\public-bcell-dataset\\D3-N\\D3-N_0_BRR_D3-N-172.adap.txt.results.tsv\n",
      "Processing file: C:\\Users\\farm2103\\.1.project\\Data Set\\public-bcell-dataset\\D3-N\\D3-N_0_BRR_D3-N-173.adap.txt.results.tsv\n",
      "Processing file: C:\\Users\\farm2103\\.1.project\\Data Set\\public-bcell-dataset\\D3-N\\D3-N_0_BRR_D3-N-174.adap.txt.results.tsv\n",
      "Processing file: C:\\Users\\farm2103\\.1.project\\Data Set\\public-bcell-dataset\\D3-N\\D3-N_0_BRR_D3-N-175.adap.txt.results.tsv\n",
      "Processing file: C:\\Users\\farm2103\\.1.project\\Data Set\\public-bcell-dataset\\D3-N\\D3-N_0_BRR_D3-N-176.adap.txt.results.tsv\n",
      "Processing file: C:\\Users\\farm2103\\.1.project\\Data Set\\public-bcell-dataset\\D3-N\\D3-N_0_BRR_D3-N-177.adap.txt.results.tsv\n"
     ]
    },
    {
     "name": "stderr",
     "output_type": "stream",
     "text": [
      "C:\\Users\\farm2103\\AppData\\Local\\Temp\\ipykernel_12704\\3552149977.py:18: DtypeWarning: Columns (12) have mixed types. Specify dtype option on import or set low_memory=False.\n",
      "  df = pd.read_csv(file_path, sep='\\t', comment='#')\n"
     ]
    },
    {
     "name": "stdout",
     "output_type": "stream",
     "text": [
      "Processing file: C:\\Users\\farm2103\\.1.project\\Data Set\\public-bcell-dataset\\D3-N\\D3-N_0_BRR_D3-N-178.adap.txt.results.tsv\n",
      "Processing file: C:\\Users\\farm2103\\.1.project\\Data Set\\public-bcell-dataset\\D3-N\\D3-N_0_BRR_D3-N-179.adap.txt.results.tsv\n",
      "Processing file: C:\\Users\\farm2103\\.1.project\\Data Set\\public-bcell-dataset\\D3-N\\D3-N_0_BRR_D3-N-180.adap.txt.results.tsv\n",
      "Processing file: C:\\Users\\farm2103\\.1.project\\Data Set\\public-bcell-dataset\\D3-N\\D3-N_0_BRR_D3-N-181.adap.txt.results.tsv\n",
      "Processing file: C:\\Users\\farm2103\\.1.project\\Data Set\\public-bcell-dataset\\D3-N\\D3-N_0_BRR_D3-N-182.adap.txt.results.tsv\n",
      "Processing file: C:\\Users\\farm2103\\.1.project\\Data Set\\public-bcell-dataset\\D3-N\\D3-N_0_BRR_D3-N-183.adap.txt.results.tsv\n",
      "Processing file: C:\\Users\\farm2103\\.1.project\\Data Set\\public-bcell-dataset\\D3-N\\D3-N_0_BRR_D3-N-184.adap.txt.results.tsv\n",
      "Processing file: C:\\Users\\farm2103\\.1.project\\Data Set\\public-bcell-dataset\\D3-N\\D3-N_0_BRR_D3-N-185.adap.txt.results.tsv\n",
      "Processing file: C:\\Users\\farm2103\\.1.project\\Data Set\\public-bcell-dataset\\D3-N\\D3-N_0_BRR_D3-N-186.adap.txt.results.tsv\n",
      "Processing file: C:\\Users\\farm2103\\.1.project\\Data Set\\public-bcell-dataset\\D3-N\\D3-N_0_BRR_D3-N-187.adap.txt.results.tsv\n"
     ]
    },
    {
     "name": "stderr",
     "output_type": "stream",
     "text": [
      "C:\\Users\\farm2103\\AppData\\Local\\Temp\\ipykernel_12704\\3552149977.py:18: DtypeWarning: Columns (12) have mixed types. Specify dtype option on import or set low_memory=False.\n",
      "  df = pd.read_csv(file_path, sep='\\t', comment='#')\n"
     ]
    },
    {
     "name": "stdout",
     "output_type": "stream",
     "text": [
      "Processing file: C:\\Users\\farm2103\\.1.project\\Data Set\\public-bcell-dataset\\D3-N\\D3-N_0_BRR_D3-N-188.adap.txt.results.tsv\n",
      "Nucleotide counts saved to 'C:\\Users\\farm2103\\.1.project\\Data Set\\public-bcell-dataset\\D3-N\\1.nucleotide_counts.txt'\n"
     ]
    }
   ],
   "source": [
    "import os\n",
    "import pandas as pd\n",
    "from collections import defaultdict\n",
    "\n",
    "# Define the directory containing the TSV files\n",
    "directory_path = r'C:\\Users\\farm2103\\.1.project\\Data Set\\public-bcell-dataset\\D3-N'\n",
    "\n",
    "# Initialize a dictionary to hold the nucleotide counts\n",
    "nucleotide_counts = defaultdict(int)\n",
    "\n",
    "# Iterate over all files in the directory\n",
    "for filename in os.listdir(directory_path):\n",
    "    if filename.endswith('.tsv'):\n",
    "        file_path = os.path.join(directory_path, filename)\n",
    "        print(f\"Processing file: {file_path}\")\n",
    "        \n",
    "        # Load the TSV file into a pandas DataFrame\n",
    "        df = pd.read_csv(file_path, sep='\\t', comment='#')\n",
    "        \n",
    "        # Check if the 'nucleotide' column exists\n",
    "        if 'nucleotide' in df.columns:\n",
    "            # Count the occurrences of each nucleotide sequence\n",
    "            for nucleotide in df['nucleotide']:\n",
    "                nucleotide_counts[nucleotide] += 1\n",
    "\n",
    "# Define the output file path\n",
    "output_file_path = os.path.join(directory_path, '1.nucleotide_counts.txt')\n",
    "\n",
    "# Save the nucleotide counts to the output file\n",
    "with open(output_file_path, 'w') as output_file:\n",
    "    for nucleotide, count in nucleotide_counts.items():\n",
    "        output_file.write(f\"{nucleotide}: {count}\\n\")\n",
    "\n",
    "print(f\"Nucleotide counts saved to '{output_file_path}'\")\n"
   ]
  },
  {
   "cell_type": "code",
   "execution_count": null,
   "id": "7d411bbf-a02e-4270-b2f2-0cc4a734b581",
   "metadata": {},
   "outputs": [],
   "source": []
  }
 ],
 "metadata": {
  "kernelspec": {
   "display_name": "Python 3 (ipykernel)",
   "language": "python",
   "name": "python3"
  },
  "language_info": {
   "codemirror_mode": {
    "name": "ipython",
    "version": 3
   },
   "file_extension": ".py",
   "mimetype": "text/x-python",
   "name": "python",
   "nbconvert_exporter": "python",
   "pygments_lexer": "ipython3",
   "version": "3.12.1"
  }
 },
 "nbformat": 4,
 "nbformat_minor": 5
}
