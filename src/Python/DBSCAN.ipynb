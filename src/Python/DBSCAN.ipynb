{
 "cells": [
  {
   "cell_type": "code",
   "execution_count": 18,
   "id": "d60fc2c5-4e7b-445c-b9de-be636d5dfb00",
   "metadata": {},
   "outputs": [
    {
     "name": "stdout",
     "output_type": "stream",
     "text": [
      "Outliers are at indices: []\n",
      "Number of clusters: 2\n",
      "Point 0 is assigned to cluster 0\n",
      "Point 1 is assigned to cluster 0\n",
      "Point 2 is assigned to cluster 1\n",
      "Point 3 is assigned to cluster 0\n",
      "Point 4 is assigned to cluster 1\n",
      "Point 5 is assigned to cluster 0\n",
      "Point 6 is assigned to cluster 0\n",
      "Point 7 is assigned to cluster 0\n",
      "Point 8 is assigned to cluster 0\n",
      "Point 9 is assigned to cluster 0\n",
      "Cluster 0 contains points: [0 1 3 5 6 7 8 9]\n",
      "Cluster 1 contains points: [2 4]\n"
     ]
    }
   ],
   "source": [
    "import numpy as np\n",
    "from sklearn.cluster import DBSCAN\n",
    "\n",
    "# Your distance matrix\n",
    "matrix = np.array([\n",
    "    [0.0, 0.78, 1.04, 0.77, 1.13, 0.75, 0.53, 0.76, 0.49, 0.67 ],\n",
    "    [0.78, 0.0, 1.13, 0.44, 1.23, 0.88, 0.7, 0.96, 0.74,  0.64 ],\n",
    "    [1.04, 1.13, 0.0, 1.14, 0.49, 1.07, 0.98, 0.92, 1.01, 1.01 ],\n",
    "    [0.77, 0.44, 1.14, 0.0, 1.24, 0.93, 0.69, 0.98, 0.77, 0.72],\n",
    "    [1.13, 1.23, 0.49, 1.24, 0.0, 1.14, 1.11, 0.98, 1.04, 1.12],\n",
    "    [0.75, 0.88, 1.07, 0.93, 1.14, 0.0, 0.71, 0.89, 0.69, 0.81],\n",
    "    [0.53, 0.7, 0.98, 0.69, 1.11, 0.71, 0.0, 0.81, 0.59, 0.52],\n",
    "    [0.76, 0.96, 0.92, 0.98, 0.98, 0.89, 0.81, 0.0, 0.84, 0.66],\n",
    "    [0.49, 0.74, 1.01, 0.77, 1.04, 0.69, 0.59, 0.84, 0.0, 0.89 ],\n",
    "    [0.67, 0.64, 1.01, 0.72, 1.12, 0.81, 0.52, 0.66, 0.89, 0.0 ]\n",
    "])\n",
    "# Apply DBSCAN\n",
    "db = DBSCAN(eps=0.7, min_samples=2, metric='precomputed')\n",
    "labels = db.fit_predict(matrix)\n",
    "\n",
    "# Find outliers and clusters\n",
    "outliers = np.where(labels == -1)[0]\n",
    "n_clusters = len(set(labels)) - (1 if -1 in labels else 0)\n",
    "\n",
    "print(f\"Outliers are at indices: {outliers}\")\n",
    "print(f\"Number of clusters: {n_clusters}\")\n",
    "\n",
    "# Print cluster assignments\n",
    "for i, label in enumerate(labels):\n",
    "    print(f\"Point {i} is assigned to cluster {label}\")\n",
    "\n",
    "# Print points in each cluster\n",
    "unique_labels = set(labels)\n",
    "for label in unique_labels:\n",
    "    if label != -1:\n",
    "        cluster_points = np.where(labels == label)[0]\n",
    "        print(f\"Cluster {label} contains points: {cluster_points}\")"
   ]
  },
  {
   "cell_type": "code",
   "execution_count": null,
   "id": "f12dec5a-c149-4648-b01d-496daf2ece8e",
   "metadata": {},
   "outputs": [],
   "source": []
  }
 ],
 "metadata": {
  "kernelspec": {
   "display_name": "Python 3 (ipykernel)",
   "language": "python",
   "name": "python3"
  },
  "language_info": {
   "codemirror_mode": {
    "name": "ipython",
    "version": 3
   },
   "file_extension": ".py",
   "mimetype": "text/x-python",
   "name": "python",
   "nbconvert_exporter": "python",
   "pygments_lexer": "ipython3",
   "version": "3.11.0rc1"
  }
 },
 "nbformat": 4,
 "nbformat_minor": 5
}
