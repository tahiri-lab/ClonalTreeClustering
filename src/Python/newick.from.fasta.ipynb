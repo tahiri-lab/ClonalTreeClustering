{
 "cells": [
  {
   "cell_type": "code",
   "execution_count": 63,
   "id": "5bd80605-7c8b-4cd9-ba55-6b5ea95bf6ed",
   "metadata": {},
   "outputs": [
    {
     "name": "stdout",
     "output_type": "stream",
     "text": [
      "Newick tree has been written to /home/local/USHERBROOKE/farm2103/1.mahsa.farnia/OneDrive_1_13-07-2024/D3-N_newick.txt\n"
     ]
    }
   ],
   "source": [
    "import os\n",
    "import subprocess\n",
    "from Bio import AlignIO, Phylo\n",
    "from Bio.Phylo.TreeConstruction import DistanceCalculator, DistanceTreeConstructor\n",
    "\n",
    "def fasta_to_newick(fasta_file, muscle_path, output_file):\n",
    "    # Define the output alignment file\n",
    "    alignment_file = fasta_file.replace('.fasta', '.aln')\n",
    "    \n",
    "    # Run MUSCLE for alignment\n",
    "    muscle_command = f'{muscle_path} -in \"{fasta_file}\" -out \"{alignment_file}\"'\n",
    "    result = subprocess.run(muscle_command, shell=True, capture_output=True, text=True)\n",
    "    \n",
    "    # Check for errors\n",
    "    if result.returncode != 0:\n",
    "        print(f\"Error running MUSCLE: {result.stderr}\")\n",
    "        return None\n",
    "    \n",
    "    # Read the alignment output\n",
    "    alignment = AlignIO.read(alignment_file, \"fasta\")\n",
    "    \n",
    "    # Calculate distance matrix\n",
    "    calculator = DistanceCalculator('identity')\n",
    "    distance_matrix = calculator.get_distance(alignment)\n",
    "    \n",
    "    # Construct the tree\n",
    "    constructor = DistanceTreeConstructor(calculator, 'nj')\n",
    "    tree = constructor.build_tree(alignment)\n",
    "    \n",
    "    # Convert the tree to Newick format\n",
    "    newick_tree = tree.format('newick')\n",
    "    # Save the Newick tree to a text file\n",
    "    with open(output_file, \"w\") as f:\n",
    "        f.write(newick_tree)\n",
    "    return newick_tree\n",
    "\n",
    "# Define paths\n",
    "fasta_file = os.path.expanduser(\"~/1.mahsa.farnia/OneDrive_1_13-07-2024/D3-N.fasta\")\n",
    "muscle_path = \"muscle\"  # MUSCLE should be in your PATH\n",
    "output_file = os.path.expanduser(\"~/1.mahsa.farnia/OneDrive_1_13-07-2024/D3-N_newick.txt\")\n",
    "\n",
    "# Generate Newick tree and save to file\n",
    "newick_tree = fasta_to_newick(fasta_file, muscle_path, output_file)\n",
    "if newick_tree:\n",
    "    print(f\"Newick tree has been written to {output_file}\")\n"
   ]
  },
  {
   "cell_type": "code",
   "execution_count": 64,
   "id": "db02b525-c4e8-4d1a-a514-407270cdebf5",
   "metadata": {},
   "outputs": [
    {
     "name": "stdout",
     "output_type": "stream",
     "text": [
      "Processed Newick file.\n",
      "Cleaned output saved to: /home/local/USHERBROOKE/farm2103/1.mahsa.farnia/OneDrive_1_13-07-2024/D3-N_newick_cleaned.txt\n"
     ]
    }
   ],
   "source": [
    "import os\n",
    "import re\n",
    "\n",
    "# Set the input and output file paths\n",
    "input_path = os.path.expanduser(\"~/1.mahsa.farnia/OneDrive_1_13-07-2024/D3-N_newick.txt\")\n",
    "output_path = os.path.expanduser(\"~/1.mahsa.farnia/OneDrive_1_13-07-2024/D3-N_newick_cleaned.txt\")\n",
    "\n",
    "# Function to remove \"Inner\" and the following number\n",
    "def remove_inner(text):\n",
    "    return re.sub(r'Inner\\d+', '', text)\n",
    "\n",
    "# Read the input file, process it, and write to the output file\n",
    "with open(input_path, 'r') as infile, open(output_path, 'w') as outfile:\n",
    "    for line in infile:\n",
    "        cleaned_line = remove_inner(line)\n",
    "        outfile.write(cleaned_line)\n",
    "\n",
    "print(f\"Processed Newick file.\")\n",
    "print(f\"Cleaned output saved to: {output_path}\")"
   ]
  },
  {
   "cell_type": "code",
   "execution_count": 65,
   "id": "8d260963-5e70-4e37-bfb9-c003c1191150",
   "metadata": {},
   "outputs": [
    {
     "name": "stdout",
     "output_type": "stream",
     "text": [
      "Sequence counts have been written to /home/local/USHERBROOKE/farm2103/1.mahsa.farnia/OneDrive_1_13-07-2024/D3-N_sequence.txt\n"
     ]
    }
   ],
   "source": [
    "import os\n",
    "\n",
    "# Define file paths\n",
    "base_path = os.path.expanduser(\"~/1.mahsa.farnia/OneDrive_1_13-07-2024\")\n",
    "fasta_file = os.path.join(base_path, \"D3-N.fasta\")\n",
    "output_file = os.path.join(base_path, \"D3-N_sequence.txt\")\n",
    "\n",
    "def extract_sequence_counts(fasta_file):\n",
    "    sequence_counts = []\n",
    "    with open(fasta_file, 'r') as f:\n",
    "        seq_id = \"\"\n",
    "        seq_count = \"\"\n",
    "        for line in f:\n",
    "            line = line.strip()\n",
    "            if line.startswith('>'):\n",
    "                seq_id = line\n",
    "            elif line.startswith('count:'):\n",
    "                seq_count = line.split(':')[-1].strip()\n",
    "                sequence_counts.append(f\"{seq_id}@{seq_count}\")\n",
    "    return sequence_counts\n",
    "\n",
    "def write_sequence_counts(sequence_counts, output_file):\n",
    "    with open(output_file, 'w') as f:\n",
    "        for entry in sequence_counts:\n",
    "            f.write(f\"{entry}\\n\")\n",
    "\n",
    "# Extract sequence counts from FASTA file\n",
    "sequence_counts = extract_sequence_counts(fasta_file)\n",
    "\n",
    "# Write sequence counts to the output file\n",
    "write_sequence_counts(sequence_counts, output_file)\n",
    "\n",
    "print(f\"Sequence counts have been written to {output_file}\")\n"
   ]
  },
  {
   "cell_type": "code",
   "execution_count": 66,
   "id": "cc8aea92-e165-419e-9629-291f8405e95d",
   "metadata": {},
   "outputs": [
    {
     "name": "stdout",
     "output_type": "stream",
     "text": [
      "Updated Newick format has been written to /home/local/USHERBROOKE/farm2103/1.mahsa.farnia/OneDrive_1_13-07-2024/weighted_newick_D3-N.txt\n"
     ]
    }
   ],
   "source": [
    "import os\n",
    "import re\n",
    "\n",
    "# Define file paths\n",
    "base_path = os.path.expanduser(\"~/1.mahsa.farnia/OneDrive_1_13-07-2024\")\n",
    "sequence_file = os.path.join(base_path, \"D3-N_sequence.txt\")\n",
    "newick_file = os.path.join(base_path, \"D3-N_newick_cleaned.txt\")\n",
    "output_file = os.path.join(base_path, \"weighted_newick_D3-N.txt\")\n",
    "\n",
    "def load_sequence_counts(sequence_file):\n",
    "    sequence_counts = {}\n",
    "    with open(sequence_file, 'r') as f:\n",
    "        for line in f:\n",
    "            line = line.strip()\n",
    "            if line:\n",
    "                # Split the line on '@' to separate the sequence ID from the count\n",
    "                seq_id, count = line.split('@')\n",
    "                sequence_counts[seq_id.strip('>')] = count\n",
    "    return sequence_counts\n",
    "\n",
    "def update_newick_with_counts(newick_file, sequence_counts, output_file):\n",
    "    with open(newick_file, 'r') as f:\n",
    "        newick_content = f.read()\n",
    "    \n",
    "    # Replace each sequence ID with the new format (e.g., seq31 -> seq31@182)\n",
    "    for seq_id, count in sequence_counts.items():\n",
    "        newick_content = re.sub(rf'\\b{seq_id}\\b', f'{seq_id}@{count}', newick_content)\n",
    "    \n",
    "    # Write the updated Newick format to the output file\n",
    "    with open(output_file, 'w') as f:\n",
    "        f.write(newick_content)\n",
    "\n",
    "# Load sequence counts from the sequence file\n",
    "sequence_counts = load_sequence_counts(sequence_file)\n",
    "\n",
    "# Update Newick file with sequence counts\n",
    "update_newick_with_counts(newick_file, sequence_counts, output_file)\n",
    "\n",
    "print(f\"Updated Newick format has been written to {output_file}\")\n"
   ]
  },
  {
   "cell_type": "code",
   "execution_count": null,
   "id": "de510a46-73ea-43f7-9492-3fc8a4a6c0d9",
   "metadata": {},
   "outputs": [],
   "source": []
  },
  {
   "cell_type": "code",
   "execution_count": null,
   "id": "02b14191-bb1e-423c-b361-fed4f4e68227",
   "metadata": {},
   "outputs": [],
   "source": []
  }
 ],
 "metadata": {
  "kernelspec": {
   "display_name": "Python 3 (ipykernel)",
   "language": "python",
   "name": "python3"
  },
  "language_info": {
   "codemirror_mode": {
    "name": "ipython",
    "version": 3
   },
   "file_extension": ".py",
   "mimetype": "text/x-python",
   "name": "python",
   "nbconvert_exporter": "python",
   "pygments_lexer": "ipython3",
   "version": "3.11.0rc1"
  }
 },
 "nbformat": 4,
 "nbformat_minor": 5
}
